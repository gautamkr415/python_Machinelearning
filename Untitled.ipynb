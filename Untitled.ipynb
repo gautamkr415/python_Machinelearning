{
 "cells": [
  {
   "cell_type": "code",
   "execution_count": 32,
   "id": "42c379be-a954-43fc-935f-ab1e92ecda5b",
   "metadata": {},
   "outputs": [
    {
     "name": "stdout",
     "output_type": "stream",
     "text": [
      "Length of target: 506\n",
      "Shape of data: (506, 13)\n"
     ]
    }
   ],
   "source": [
    "import pandas as pd\n",
    "import numpy as np\n",
    "\n",
    "import matplotlib.pyplot as plt\n",
    "import numpy as np\n",
    "from sklearn.linear_model import LinearRegression\n",
    "from sklearn.model_selection import train_test_split\n",
    "from sklearn.metrics import mean_squared_error, r2_score\n",
    "\n",
    "data_url = \"http://lib.stat.cmu.edu/datasets/boston\"\n",
    "raw_df = pd.read_csv(data_url, sep=r\"\\s+\", skiprows=22, header=None)\n",
    "data = np.hstack([raw_df.values[::2, :], raw_df.values[1::2, :2]])\n",
    "target = raw_df.values[1::2, 2]\n",
    "print(\"Length of target:\", len(target))\n",
    "print(\"Shape of data:\", data.shape)\n"
   ]
  },
  {
   "cell_type": "code",
   "execution_count": 34,
   "id": "bb9010e5-4f6d-4b41-8b84-d8a06d2126c7",
   "metadata": {},
   "outputs": [
    {
     "name": "stdout",
     "output_type": "stream",
     "text": [
      "[[ 3.02467510e+01]\n",
      " [-1.13055924e-01]\n",
      " [ 3.01104641e-02]\n",
      " [ 4.03807204e-02]\n",
      " [ 2.78443820e+00]\n",
      " [-1.72026334e+01]\n",
      " [ 4.43883520e+00]\n",
      " [-6.29636221e-03]\n",
      " [-1.44786537e+00]\n",
      " [ 2.62429736e-01]\n",
      " [-1.06467863e-02]\n",
      " [-9.15456240e-01]\n",
      " [ 1.23513347e-02]\n",
      " [-5.08571424e-01]]\n"
     ]
    }
   ],
   "source": [
    "# Add bias term (intercept)\n",
    "X_b = np.c_[np.ones((X_train.shape[0], 1)), X_train]  # shape: (N, d+1)\n",
    "y = y_train.reshape(-1, 1)\n",
    "\n",
    "# Compute weights using normal equation\n",
    "theta = np.linalg.inv(X_b.T @ X_b) @ X_b.T @ y\n",
    "\n",
    "# Predict on test data\n",
    "X_test_b = np.c_[np.ones((X_test.shape[0], 1)), X_test]\n",
    "y_pred = X_test_b @ theta\n",
    "print(theta)\n"
   ]
  },
  {
   "cell_type": "code",
   "execution_count": 35,
   "id": "1a4ca708-7e48-4472-96e7-abbc2d175a26",
   "metadata": {},
   "outputs": [
    {
     "name": "stdout",
     "output_type": "stream",
     "text": [
      "MSE: 24.291119474974355\n",
      "R²: 0.6687594935356206\n"
     ]
    }
   ],
   "source": [
    "from sklearn.metrics import mean_squared_error, r2_score\n",
    "print(\"MSE:\", mean_squared_error(y_test, y_pred))\n",
    "print(\"R²:\", r2_score(y_test, y_pred))"
   ]
  },
  {
   "cell_type": "code",
   "execution_count": null,
   "id": "34cc4f2f-ad52-426f-9410-3958d696e937",
   "metadata": {},
   "outputs": [],
   "source": []
  }
 ],
 "metadata": {
  "kernelspec": {
   "display_name": "Python [conda env:base] *",
   "language": "python",
   "name": "conda-base-py"
  },
  "language_info": {
   "codemirror_mode": {
    "name": "ipython",
    "version": 3
   },
   "file_extension": ".py",
   "mimetype": "text/x-python",
   "name": "python",
   "nbconvert_exporter": "python",
   "pygments_lexer": "ipython3",
   "version": "3.12.7"
  }
 },
 "nbformat": 4,
 "nbformat_minor": 5
}
